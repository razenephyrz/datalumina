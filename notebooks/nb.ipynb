{
 "cells": [
  {
   "cell_type": "code",
   "execution_count": 1,
   "metadata": {},
   "outputs": [
    {
     "name": "stdout",
     "output_type": "stream",
     "text": [
      "Random String: E77pcdXSD2LB7\n",
      "Prime Numbers: [2, 3, 5, 7, 11, 13, 17, 19, 23, 29, 31, 37, 41, 43, 47, 53, 59, 61, 67, 71, 73, 79, 83, 89, 97], Sum of Random Numbers: 441, Random String Length: 13\n"
     ]
    }
   ],
   "source": [
    "import random\n",
    "import string\n",
    "\n",
    "\n",
    "def generate_random_string(length=10):\n",
    "    \"\"\"Generate a random string of fixed length.\"\"\"\n",
    "    return \"\".join(random.choices(string.ascii_letters + string.digits, k=length))\n",
    "\n",
    "\n",
    "def calculate_sum(numbers):\n",
    "    \"\"\"Calculate the sum of a list of numbers.\"\"\"\n",
    "    return sum(numbers)\n",
    "\n",
    "\n",
    "def is_prime(number):\n",
    "    \"\"\"Check if a number is a prime number.\"\"\"\n",
    "    if number <= 1:\n",
    "        return False\n",
    "    for i in range(2, int(number**0.5) + 1):\n",
    "        if number % i == 0:\n",
    "            return False\n",
    "    return True\n",
    "\n",
    "\n",
    "random_string = generate_random_string(13)\n",
    "print(f\"Random String: {random_string}\")\n",
    "\n",
    "print(\n",
    "    f\"Prime Numbers: {[num for num in range(2, 100) if is_prime(num)]}, Sum of Random Numbers: {calculate_sum([random.randint(1, 100) for _ in range(10)])}, Random String Length: {len(random_string)}\"\n",
    ")\n"
   ]
  }
 ],
 "metadata": {
  "kernelspec": {
   "display_name": ".venv",
   "language": "python",
   "name": "python3"
  },
  "language_info": {
   "codemirror_mode": {
    "name": "ipython",
    "version": 3
   },
   "file_extension": ".py",
   "mimetype": "text/x-python",
   "name": "python",
   "nbconvert_exporter": "python",
   "pygments_lexer": "ipython3",
   "version": "3.13.2"
  }
 },
 "nbformat": 4,
 "nbformat_minor": 2
}
